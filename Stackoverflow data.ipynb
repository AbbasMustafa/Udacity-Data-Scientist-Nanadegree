{
 "cells": [
  {
   "cell_type": "markdown",
   "id": "2b06ec8f",
   "metadata": {},
   "source": [
    "# Business Understanding\n",
    "\n",
    "1. **What is the salary distribution according to person’s race?** <br>\n",
    "Racism is most important topic in our current era, Everyone thinks that another person achieve higher success because of their race. let’s find what this dataset shows about us about the relation between salary and person’s race.\n"
   ]
  },
  {
   "cell_type": "markdown",
   "id": "b35428f8",
   "metadata": {},
   "source": [
    "2. **Which country has highest educated People?** <br>\n",
    "Education is important part of every country in this, those country who has highest educated people have better chance to development, this dataset will help to dig out those country which has highest educated person.\n"
   ]
  },
  {
   "cell_type": "markdown",
   "id": "b4ab68ba",
   "metadata": {},
   "source": [
    "3. **How many Undergrad Student who gets job and Not?**\n",
    "Finding and getting Job is primary goal of every student after graduation, but sometimes someone don’t get it, because of some circumstance,  let’s find out how many students gets their job or Not!"
   ]
  },
  {
   "cell_type": "code",
   "execution_count": 1,
   "id": "f9116932",
   "metadata": {},
   "outputs": [],
   "source": [
    "# Import Libraries\n",
    "\n",
    "import numpy as np\n",
    "import pandas as pd\n",
    "import matplotlib.pyplot as plt\n",
    "import math"
   ]
  },
  {
   "cell_type": "code",
   "execution_count": 2,
   "id": "d272c591",
   "metadata": {
    "scrolled": true
   },
   "outputs": [],
   "source": [
    "# Load Dataset\n",
    "\n",
    "df = pd.read_csv('survey-results-public.csv')\n",
    "schema = pd.read_csv('survey-results-schema.csv')"
   ]
  },
  {
   "cell_type": "markdown",
   "id": "8abaa374",
   "metadata": {},
   "source": [
    "# Data Understanding"
   ]
  },
  {
   "cell_type": "code",
   "execution_count": 3,
   "id": "d1734317",
   "metadata": {
    "scrolled": false
   },
   "outputs": [
    {
     "data": {
      "text/html": [
       "<div>\n",
       "<style scoped>\n",
       "    .dataframe tbody tr th:only-of-type {\n",
       "        vertical-align: middle;\n",
       "    }\n",
       "\n",
       "    .dataframe tbody tr th {\n",
       "        vertical-align: top;\n",
       "    }\n",
       "\n",
       "    .dataframe thead th {\n",
       "        text-align: right;\n",
       "    }\n",
       "</style>\n",
       "<table border=\"1\" class=\"dataframe\">\n",
       "  <thead>\n",
       "    <tr style=\"text-align: right;\">\n",
       "      <th></th>\n",
       "      <th>Respondent</th>\n",
       "      <th>Professional</th>\n",
       "      <th>ProgramHobby</th>\n",
       "      <th>Country</th>\n",
       "      <th>University</th>\n",
       "      <th>EmploymentStatus</th>\n",
       "      <th>FormalEducation</th>\n",
       "      <th>MajorUndergrad</th>\n",
       "      <th>HomeRemote</th>\n",
       "      <th>CompanySize</th>\n",
       "      <th>...</th>\n",
       "      <th>StackOverflowMakeMoney</th>\n",
       "      <th>Gender</th>\n",
       "      <th>HighestEducationParents</th>\n",
       "      <th>Race</th>\n",
       "      <th>SurveyLong</th>\n",
       "      <th>QuestionsInteresting</th>\n",
       "      <th>QuestionsConfusing</th>\n",
       "      <th>InterestedAnswers</th>\n",
       "      <th>Salary</th>\n",
       "      <th>ExpectedSalary</th>\n",
       "    </tr>\n",
       "  </thead>\n",
       "  <tbody>\n",
       "    <tr>\n",
       "      <th>0</th>\n",
       "      <td>1</td>\n",
       "      <td>Student</td>\n",
       "      <td>Yes, both</td>\n",
       "      <td>United States</td>\n",
       "      <td>No</td>\n",
       "      <td>Not employed, and not looking for work</td>\n",
       "      <td>Secondary school</td>\n",
       "      <td>NaN</td>\n",
       "      <td>NaN</td>\n",
       "      <td>NaN</td>\n",
       "      <td>...</td>\n",
       "      <td>Strongly disagree</td>\n",
       "      <td>Male</td>\n",
       "      <td>High school</td>\n",
       "      <td>White or of European descent</td>\n",
       "      <td>Strongly disagree</td>\n",
       "      <td>Strongly agree</td>\n",
       "      <td>Disagree</td>\n",
       "      <td>Strongly agree</td>\n",
       "      <td>NaN</td>\n",
       "      <td>NaN</td>\n",
       "    </tr>\n",
       "    <tr>\n",
       "      <th>1</th>\n",
       "      <td>2</td>\n",
       "      <td>Student</td>\n",
       "      <td>Yes, both</td>\n",
       "      <td>United Kingdom</td>\n",
       "      <td>Yes, full-time</td>\n",
       "      <td>Employed part-time</td>\n",
       "      <td>Some college/university study without earning ...</td>\n",
       "      <td>Computer science or software engineering</td>\n",
       "      <td>More than half, but not all, the time</td>\n",
       "      <td>20 to 99 employees</td>\n",
       "      <td>...</td>\n",
       "      <td>Strongly disagree</td>\n",
       "      <td>Male</td>\n",
       "      <td>A master's degree</td>\n",
       "      <td>White or of European descent</td>\n",
       "      <td>Somewhat agree</td>\n",
       "      <td>Somewhat agree</td>\n",
       "      <td>Disagree</td>\n",
       "      <td>Strongly agree</td>\n",
       "      <td>NaN</td>\n",
       "      <td>37500.0</td>\n",
       "    </tr>\n",
       "    <tr>\n",
       "      <th>2</th>\n",
       "      <td>3</td>\n",
       "      <td>Professional developer</td>\n",
       "      <td>Yes, both</td>\n",
       "      <td>United Kingdom</td>\n",
       "      <td>No</td>\n",
       "      <td>Employed full-time</td>\n",
       "      <td>Bachelor's degree</td>\n",
       "      <td>Computer science or software engineering</td>\n",
       "      <td>Less than half the time, but at least one day ...</td>\n",
       "      <td>10,000 or more employees</td>\n",
       "      <td>...</td>\n",
       "      <td>Disagree</td>\n",
       "      <td>Male</td>\n",
       "      <td>A professional degree</td>\n",
       "      <td>White or of European descent</td>\n",
       "      <td>Somewhat agree</td>\n",
       "      <td>Agree</td>\n",
       "      <td>Disagree</td>\n",
       "      <td>Agree</td>\n",
       "      <td>113750.0</td>\n",
       "      <td>NaN</td>\n",
       "    </tr>\n",
       "    <tr>\n",
       "      <th>3</th>\n",
       "      <td>4</td>\n",
       "      <td>Professional non-developer who sometimes write...</td>\n",
       "      <td>Yes, both</td>\n",
       "      <td>United States</td>\n",
       "      <td>No</td>\n",
       "      <td>Employed full-time</td>\n",
       "      <td>Doctoral degree</td>\n",
       "      <td>A non-computer-focused engineering discipline</td>\n",
       "      <td>Less than half the time, but at least one day ...</td>\n",
       "      <td>10,000 or more employees</td>\n",
       "      <td>...</td>\n",
       "      <td>Disagree</td>\n",
       "      <td>Male</td>\n",
       "      <td>A doctoral degree</td>\n",
       "      <td>White or of European descent</td>\n",
       "      <td>Agree</td>\n",
       "      <td>Agree</td>\n",
       "      <td>Somewhat agree</td>\n",
       "      <td>Strongly agree</td>\n",
       "      <td>NaN</td>\n",
       "      <td>NaN</td>\n",
       "    </tr>\n",
       "    <tr>\n",
       "      <th>4</th>\n",
       "      <td>5</td>\n",
       "      <td>Professional developer</td>\n",
       "      <td>Yes, I program as a hobby</td>\n",
       "      <td>Switzerland</td>\n",
       "      <td>No</td>\n",
       "      <td>Employed full-time</td>\n",
       "      <td>Master's degree</td>\n",
       "      <td>Computer science or software engineering</td>\n",
       "      <td>Never</td>\n",
       "      <td>10 to 19 employees</td>\n",
       "      <td>...</td>\n",
       "      <td>NaN</td>\n",
       "      <td>NaN</td>\n",
       "      <td>NaN</td>\n",
       "      <td>NaN</td>\n",
       "      <td>NaN</td>\n",
       "      <td>NaN</td>\n",
       "      <td>NaN</td>\n",
       "      <td>NaN</td>\n",
       "      <td>NaN</td>\n",
       "      <td>NaN</td>\n",
       "    </tr>\n",
       "  </tbody>\n",
       "</table>\n",
       "<p>5 rows × 154 columns</p>\n",
       "</div>"
      ],
      "text/plain": [
       "   Respondent                                       Professional  \\\n",
       "0           1                                            Student   \n",
       "1           2                                            Student   \n",
       "2           3                             Professional developer   \n",
       "3           4  Professional non-developer who sometimes write...   \n",
       "4           5                             Professional developer   \n",
       "\n",
       "                ProgramHobby         Country      University  \\\n",
       "0                  Yes, both   United States              No   \n",
       "1                  Yes, both  United Kingdom  Yes, full-time   \n",
       "2                  Yes, both  United Kingdom              No   \n",
       "3                  Yes, both   United States              No   \n",
       "4  Yes, I program as a hobby     Switzerland              No   \n",
       "\n",
       "                         EmploymentStatus  \\\n",
       "0  Not employed, and not looking for work   \n",
       "1                      Employed part-time   \n",
       "2                      Employed full-time   \n",
       "3                      Employed full-time   \n",
       "4                      Employed full-time   \n",
       "\n",
       "                                     FormalEducation  \\\n",
       "0                                   Secondary school   \n",
       "1  Some college/university study without earning ...   \n",
       "2                                  Bachelor's degree   \n",
       "3                                    Doctoral degree   \n",
       "4                                    Master's degree   \n",
       "\n",
       "                                  MajorUndergrad  \\\n",
       "0                                            NaN   \n",
       "1       Computer science or software engineering   \n",
       "2       Computer science or software engineering   \n",
       "3  A non-computer-focused engineering discipline   \n",
       "4       Computer science or software engineering   \n",
       "\n",
       "                                          HomeRemote  \\\n",
       "0                                                NaN   \n",
       "1              More than half, but not all, the time   \n",
       "2  Less than half the time, but at least one day ...   \n",
       "3  Less than half the time, but at least one day ...   \n",
       "4                                              Never   \n",
       "\n",
       "                CompanySize  ... StackOverflowMakeMoney Gender  \\\n",
       "0                       NaN  ...      Strongly disagree   Male   \n",
       "1        20 to 99 employees  ...      Strongly disagree   Male   \n",
       "2  10,000 or more employees  ...               Disagree   Male   \n",
       "3  10,000 or more employees  ...               Disagree   Male   \n",
       "4        10 to 19 employees  ...                    NaN    NaN   \n",
       "\n",
       "  HighestEducationParents                          Race         SurveyLong  \\\n",
       "0             High school  White or of European descent  Strongly disagree   \n",
       "1       A master's degree  White or of European descent     Somewhat agree   \n",
       "2   A professional degree  White or of European descent     Somewhat agree   \n",
       "3       A doctoral degree  White or of European descent              Agree   \n",
       "4                     NaN                           NaN                NaN   \n",
       "\n",
       "  QuestionsInteresting QuestionsConfusing InterestedAnswers    Salary  \\\n",
       "0       Strongly agree           Disagree    Strongly agree       NaN   \n",
       "1       Somewhat agree           Disagree    Strongly agree       NaN   \n",
       "2                Agree           Disagree             Agree  113750.0   \n",
       "3                Agree     Somewhat agree    Strongly agree       NaN   \n",
       "4                  NaN                NaN               NaN       NaN   \n",
       "\n",
       "   ExpectedSalary  \n",
       "0             NaN  \n",
       "1         37500.0  \n",
       "2             NaN  \n",
       "3             NaN  \n",
       "4             NaN  \n",
       "\n",
       "[5 rows x 154 columns]"
      ]
     },
     "execution_count": 3,
     "metadata": {},
     "output_type": "execute_result"
    }
   ],
   "source": [
    "# Top Five Data of Survey-Result\n",
    "\n",
    "df.head()"
   ]
  },
  {
   "cell_type": "code",
   "execution_count": 4,
   "id": "bf2b14e1",
   "metadata": {},
   "outputs": [
    {
     "name": "stdout",
     "output_type": "stream",
     "text": [
      "rows :51392 \n",
      "columns: 154\n"
     ]
    }
   ],
   "source": [
    "# Rows and Columns\n",
    "\n",
    "print(f'rows :{df.shape[0]} \\ncolumns: {df.shape[1]}')"
   ]
  },
  {
   "cell_type": "code",
   "execution_count": 5,
   "id": "98be5602",
   "metadata": {},
   "outputs": [
    {
     "data": {
      "text/plain": [
       "MajorUndergrad          0.166388\n",
       "HomeRemote              0.143680\n",
       "CompanySize             0.242645\n",
       "CompanyType             0.244571\n",
       "YearsProgram            0.004806\n",
       "                          ...   \n",
       "QuestionsInteresting    0.327989\n",
       "QuestionsConfusing      0.330265\n",
       "InterestedAnswers       0.326510\n",
       "Salary                  0.749163\n",
       "ExpectedSalary          0.950070\n",
       "Length: 147, dtype: float64"
      ]
     },
     "execution_count": 5,
     "metadata": {},
     "output_type": "execute_result"
    }
   ],
   "source": [
    "# Null Values in dataset\n",
    "\n",
    "df.loc[:, df.isnull().mean() != 0].isnull().mean()"
   ]
  },
  {
   "cell_type": "markdown",
   "id": "e863e9d8",
   "metadata": {},
   "source": [
    "# Data Preperation"
   ]
  },
  {
   "cell_type": "markdown",
   "id": "62e0eab6",
   "metadata": {},
   "source": [
    "As per our bussniess requiremnent we need only those columns which will help us to find out insights for our qustions.<br>\n",
    "**Question No 1**\n",
    "1. Race\n",
    "2. Salary <br>\n",
    "**Question No 2** <br>\n",
    "1. FormalEducation \n",
    "2. Country <br>\n",
    "**Question No 3** <br>\n",
    "1. MajorUndergrad \n",
    "2. EmploymentStatus <br>\n",
    "\n",
    "And <br>\n",
    "Respondent for counting purpose"
   ]
  },
  {
   "cell_type": "code",
   "execution_count": 6,
   "id": "6c171fb1",
   "metadata": {},
   "outputs": [
    {
     "data": {
      "text/html": [
       "<div>\n",
       "<style scoped>\n",
       "    .dataframe tbody tr th:only-of-type {\n",
       "        vertical-align: middle;\n",
       "    }\n",
       "\n",
       "    .dataframe tbody tr th {\n",
       "        vertical-align: top;\n",
       "    }\n",
       "\n",
       "    .dataframe thead th {\n",
       "        text-align: right;\n",
       "    }\n",
       "</style>\n",
       "<table border=\"1\" class=\"dataframe\">\n",
       "  <thead>\n",
       "    <tr style=\"text-align: right;\">\n",
       "      <th></th>\n",
       "      <th>Race</th>\n",
       "      <th>Salary</th>\n",
       "      <th>FormalEducation</th>\n",
       "      <th>Country</th>\n",
       "      <th>MajorUndergrad</th>\n",
       "      <th>EmploymentStatus</th>\n",
       "      <th>Respondent</th>\n",
       "    </tr>\n",
       "  </thead>\n",
       "  <tbody>\n",
       "    <tr>\n",
       "      <th>0</th>\n",
       "      <td>White or of European descent</td>\n",
       "      <td>NaN</td>\n",
       "      <td>Secondary school</td>\n",
       "      <td>United States</td>\n",
       "      <td>NaN</td>\n",
       "      <td>Not employed, and not looking for work</td>\n",
       "      <td>1</td>\n",
       "    </tr>\n",
       "    <tr>\n",
       "      <th>1</th>\n",
       "      <td>White or of European descent</td>\n",
       "      <td>NaN</td>\n",
       "      <td>Some college/university study without earning ...</td>\n",
       "      <td>United Kingdom</td>\n",
       "      <td>Computer science or software engineering</td>\n",
       "      <td>Employed part-time</td>\n",
       "      <td>2</td>\n",
       "    </tr>\n",
       "    <tr>\n",
       "      <th>2</th>\n",
       "      <td>White or of European descent</td>\n",
       "      <td>113750.0</td>\n",
       "      <td>Bachelor's degree</td>\n",
       "      <td>United Kingdom</td>\n",
       "      <td>Computer science or software engineering</td>\n",
       "      <td>Employed full-time</td>\n",
       "      <td>3</td>\n",
       "    </tr>\n",
       "    <tr>\n",
       "      <th>3</th>\n",
       "      <td>White or of European descent</td>\n",
       "      <td>NaN</td>\n",
       "      <td>Doctoral degree</td>\n",
       "      <td>United States</td>\n",
       "      <td>A non-computer-focused engineering discipline</td>\n",
       "      <td>Employed full-time</td>\n",
       "      <td>4</td>\n",
       "    </tr>\n",
       "    <tr>\n",
       "      <th>4</th>\n",
       "      <td>NaN</td>\n",
       "      <td>NaN</td>\n",
       "      <td>Master's degree</td>\n",
       "      <td>Switzerland</td>\n",
       "      <td>Computer science or software engineering</td>\n",
       "      <td>Employed full-time</td>\n",
       "      <td>5</td>\n",
       "    </tr>\n",
       "  </tbody>\n",
       "</table>\n",
       "</div>"
      ],
      "text/plain": [
       "                           Race    Salary  \\\n",
       "0  White or of European descent       NaN   \n",
       "1  White or of European descent       NaN   \n",
       "2  White or of European descent  113750.0   \n",
       "3  White or of European descent       NaN   \n",
       "4                           NaN       NaN   \n",
       "\n",
       "                                     FormalEducation         Country  \\\n",
       "0                                   Secondary school   United States   \n",
       "1  Some college/university study without earning ...  United Kingdom   \n",
       "2                                  Bachelor's degree  United Kingdom   \n",
       "3                                    Doctoral degree   United States   \n",
       "4                                    Master's degree     Switzerland   \n",
       "\n",
       "                                  MajorUndergrad  \\\n",
       "0                                            NaN   \n",
       "1       Computer science or software engineering   \n",
       "2       Computer science or software engineering   \n",
       "3  A non-computer-focused engineering discipline   \n",
       "4       Computer science or software engineering   \n",
       "\n",
       "                         EmploymentStatus  Respondent  \n",
       "0  Not employed, and not looking for work           1  \n",
       "1                      Employed part-time           2  \n",
       "2                      Employed full-time           3  \n",
       "3                      Employed full-time           4  \n",
       "4                      Employed full-time           5  "
      ]
     },
     "execution_count": 6,
     "metadata": {},
     "output_type": "execute_result"
    }
   ],
   "source": [
    "# Extract Important Columns from Dataframe\n",
    "\n",
    "df = df.loc[:, ['Race','Salary','FormalEducation','Country','MajorUndergrad','EmploymentStatus','Respondent']]\n",
    "df.head()"
   ]
  },
  {
   "cell_type": "markdown",
   "id": "3efea4f3",
   "metadata": {},
   "source": [
    "### Data preperation for question 1"
   ]
  },
  {
   "cell_type": "markdown",
   "id": "b8479674",
   "metadata": {},
   "source": [
    "In question 1 we need Race and Salary data <br>\n",
    "let's find out how many null values are there"
   ]
  },
  {
   "cell_type": "code",
   "execution_count": 7,
   "id": "f44a9102",
   "metadata": {},
   "outputs": [
    {
     "data": {
      "text/plain": [
       "Race      0.357235\n",
       "Salary    0.749163\n",
       "dtype: float64"
      ]
     },
     "execution_count": 7,
     "metadata": {},
     "output_type": "execute_result"
    }
   ],
   "source": [
    "df.loc[:, ['Race', 'Salary']].isnull().mean()"
   ]
  },
  {
   "cell_type": "markdown",
   "id": "54571fd8",
   "metadata": {},
   "source": [
    "We need to **drop NaN** values from Race columns because <br>\n",
    "absence of Race Values doesn't provide us any insight at all"
   ]
  },
  {
   "cell_type": "code",
   "execution_count": 8,
   "id": "16031db1",
   "metadata": {},
   "outputs": [
    {
     "data": {
      "text/plain": [
       "0.0"
      ]
     },
     "execution_count": 8,
     "metadata": {},
     "output_type": "execute_result"
    }
   ],
   "source": [
    "df1 = df.dropna(subset=['Race'],axis=0)\n",
    "df1.Race.isnull().mean()"
   ]
  },
  {
   "cell_type": "markdown",
   "id": "c7c6603d",
   "metadata": {},
   "source": [
    "**Understanding** Race Column in dataset"
   ]
  },
  {
   "cell_type": "code",
   "execution_count": 9,
   "id": "52716e1d",
   "metadata": {},
   "outputs": [
    {
     "data": {
      "text/plain": [
       "array(['White or of European descent', 'Hispanic or Latino/Latina',\n",
       "       'Native American, Pacific Islander, or Indigenous Australian; White or of European descent',\n",
       "       'I prefer not to say', 'South Asian', 'Middle Eastern',\n",
       "       'Hispanic or Latino/Latina; White or of European descent',\n",
       "       'I don’t know',\n",
       "       'Hispanic or Latino/Latina; Native American, Pacific Islander, or Indigenous Australian',\n",
       "       'Middle Eastern; White or of European descent', 'East Asian',\n",
       "       'Black or of African descent; White or of European descent',\n",
       "       'Black or of African descent; East Asian; White or of European descent',\n",
       "       'Middle Eastern; I don’t know',\n",
       "       'East Asian; White or of European descent',\n",
       "       'East Asian; South Asian; I don’t know', 'East Asian; South Asian',\n",
       "       'Black or of African descent',\n",
       "       'Native American, Pacific Islander, or Indigenous Australian',\n",
       "       'Black or of African descent; Middle Eastern',\n",
       "       'Black or of African descent; Native American, Pacific Islander, or Indigenous Australian; White or of European descent',\n",
       "       'White or of European descent; I don’t know; I prefer not to say',\n",
       "       'South Asian; White or of European descent',\n",
       "       'White or of European descent; I prefer not to say',\n",
       "       'White or of European descent; I don’t know',\n",
       "       'Hispanic or Latino/Latina; White or of European descent; I don’t know',\n",
       "       'Black or of African descent; Hispanic or Latino/Latina; White or of European descent',\n",
       "       'East Asian; Hispanic or Latino/Latina',\n",
       "       'Black or of African descent; East Asian; Hispanic or Latino/Latina; Middle Eastern; Native American, Pacific Islander, or Indigenous Australian; South Asian; White or of European descent; I don’t know; I prefer not to say',\n",
       "       'I don’t know; I prefer not to say',\n",
       "       'Hispanic or Latino/Latina; South Asian',\n",
       "       'Black or of African descent; Hispanic or Latino/Latina',\n",
       "       'Hispanic or Latino/Latina; Native American, Pacific Islander, or Indigenous Australian; White or of European descent',\n",
       "       'East Asian; Native American, Pacific Islander, or Indigenous Australian; White or of European descent',\n",
       "       'Black or of African descent; South Asian',\n",
       "       'East Asian; Native American, Pacific Islander, or Indigenous Australian',\n",
       "       'South Asian; I don’t know',\n",
       "       'Hispanic or Latino/Latina; Middle Eastern; White or of European descent',\n",
       "       'East Asian; Middle Eastern; White or of European descent',\n",
       "       'Black or of African descent; Hispanic or Latino/Latina; South Asian; I don’t know',\n",
       "       'Black or of African descent; East Asian',\n",
       "       'East Asian; Middle Eastern; South Asian',\n",
       "       'Black or of African descent; Hispanic or Latino/Latina; Native American, Pacific Islander, or Indigenous Australian; White or of European descent',\n",
       "       'Hispanic or Latino/Latina; Middle Eastern; Native American, Pacific Islander, or Indigenous Australian; White or of European descent',\n",
       "       'Black or of African descent; East Asian; South Asian; White or of European descent',\n",
       "       'East Asian; Hispanic or Latino/Latina; White or of European descent',\n",
       "       'East Asian; South Asian; White or of European descent',\n",
       "       'Black or of African descent; Middle Eastern; White or of European descent; I don’t know',\n",
       "       'Hispanic or Latino/Latina; Middle Eastern',\n",
       "       'Black or of African descent; Hispanic or Latino/Latina; Middle Eastern',\n",
       "       'Hispanic or Latino/Latina; Native American, Pacific Islander, or Indigenous Australian; South Asian; White or of European descent',\n",
       "       'Black or of African descent; East Asian; Hispanic or Latino/Latina; Middle Eastern; Native American, Pacific Islander, or Indigenous Australian; South Asian; White or of European descent',\n",
       "       'Black or of African descent; East Asian; Middle Eastern; White or of European descent',\n",
       "       'Black or of African descent; Hispanic or Latino/Latina; White or of European descent; I don’t know',\n",
       "       'Middle Eastern; South Asian',\n",
       "       'Black or of African descent; East Asian; Hispanic or Latino/Latina; Middle Eastern; Native American, Pacific Islander, or Indigenous Australian; South Asian; White or of European descent; I don’t know',\n",
       "       'Black or of African descent; Middle Eastern; South Asian',\n",
       "       'East Asian; Middle Eastern; South Asian; I prefer not to say',\n",
       "       'Black or of African descent; Middle Eastern; Native American, Pacific Islander, or Indigenous Australian; White or of European descent',\n",
       "       'Black or of African descent; South Asian; White or of European descent',\n",
       "       'Middle Eastern; White or of European descent; I don’t know',\n",
       "       'Native American, Pacific Islander, or Indigenous Australian; South Asian',\n",
       "       'Black or of African descent; White or of European descent; I prefer not to say',\n",
       "       'Black or of African descent; Native American, Pacific Islander, or Indigenous Australian',\n",
       "       'Middle Eastern; White or of European descent; I don’t know; I prefer not to say',\n",
       "       'Black or of African descent; I prefer not to say',\n",
       "       'East Asian; I don’t know',\n",
       "       'Hispanic or Latino/Latina; I don’t know',\n",
       "       'South Asian; White or of European descent; I don’t know',\n",
       "       'Black or of African descent; Hispanic or Latino/Latina; I don’t know',\n",
       "       'East Asian; Hispanic or Latino/Latina; Native American, Pacific Islander, or Indigenous Australian; White or of European descent',\n",
       "       'Black or of African descent; East Asian; Hispanic or Latino/Latina; Middle Eastern; White or of European descent',\n",
       "       'East Asian; Middle Eastern; Native American, Pacific Islander, or Indigenous Australian; South Asian; White or of European descent',\n",
       "       'Black or of African descent; Hispanic or Latino/Latina; Native American, Pacific Islander, or Indigenous Australian',\n",
       "       'Middle Eastern; Native American, Pacific Islander, or Indigenous Australian; White or of European descent',\n",
       "       'East Asian; Middle Eastern',\n",
       "       'Middle Eastern; Native American, Pacific Islander, or Indigenous Australian',\n",
       "       'Black or of African descent; Hispanic or Latino/Latina; Native American, Pacific Islander, or Indigenous Australian; White or of European descent; I don’t know',\n",
       "       'East Asian; Hispanic or Latino/Latina; Middle Eastern; Native American, Pacific Islander, or Indigenous Australian; White or of European descent',\n",
       "       'East Asian; Native American, Pacific Islander, or Indigenous Australian; I don’t know',\n",
       "       'East Asian; Native American, Pacific Islander, or Indigenous Australian; South Asian',\n",
       "       'East Asian; I prefer not to say',\n",
       "       'Black or of African descent; East Asian; Middle Eastern; I don’t know',\n",
       "       'Black or of African descent; White or of European descent; I don’t know',\n",
       "       'Black or of African descent; East Asian; Hispanic or Latino/Latina; Middle Eastern',\n",
       "       'Black or of African descent; I don’t know; I prefer not to say',\n",
       "       'East Asian; Hispanic or Latino/Latina; Native American, Pacific Islander, or Indigenous Australian',\n",
       "       'East Asian; White or of European descent; I don’t know',\n",
       "       'Native American, Pacific Islander, or Indigenous Australian; White or of European descent; I don’t know',\n",
       "       'Black or of African descent; East Asian; Hispanic or Latino/Latina; White or of European descent',\n",
       "       'Native American, Pacific Islander, or Indigenous Australian; I don’t know',\n",
       "       'Hispanic or Latino/Latina; South Asian; White or of European descent',\n",
       "       'Black or of African descent; Native American, Pacific Islander, or Indigenous Australian; South Asian; White or of European descent',\n",
       "       'East Asian; Hispanic or Latino/Latina; Native American, Pacific Islander, or Indigenous Australian; South Asian; White or of European descent',\n",
       "       'Middle Eastern; I prefer not to say',\n",
       "       'Native American, Pacific Islander, or Indigenous Australian; South Asian; White or of European descent',\n",
       "       'Black or of African descent; East Asian; Hispanic or Latino/Latina; Middle Eastern; Native American, Pacific Islander, or Indigenous Australian; South Asian; I don’t know; I prefer not to say'],\n",
       "      dtype=object)"
      ]
     },
     "execution_count": 9,
     "metadata": {},
     "output_type": "execute_result"
    }
   ],
   "source": [
    "df1.Race.unique()"
   ]
  },
  {
   "cell_type": "markdown",
   "id": "47c8cc98",
   "metadata": {},
   "source": [
    "As we look Values are **Merged** with each others <br>\n",
    "We need to split them using **split** function by **;**"
   ]
  },
  {
   "cell_type": "code",
   "execution_count": 10,
   "id": "f3696b69",
   "metadata": {},
   "outputs": [
    {
     "data": {
      "text/html": [
       "<div>\n",
       "<style scoped>\n",
       "    .dataframe tbody tr th:only-of-type {\n",
       "        vertical-align: middle;\n",
       "    }\n",
       "\n",
       "    .dataframe tbody tr th {\n",
       "        vertical-align: top;\n",
       "    }\n",
       "\n",
       "    .dataframe thead th {\n",
       "        text-align: right;\n",
       "    }\n",
       "</style>\n",
       "<table border=\"1\" class=\"dataframe\">\n",
       "  <thead>\n",
       "    <tr style=\"text-align: right;\">\n",
       "      <th></th>\n",
       "      <th>0</th>\n",
       "      <th>1</th>\n",
       "      <th>2</th>\n",
       "      <th>3</th>\n",
       "      <th>4</th>\n",
       "      <th>5</th>\n",
       "      <th>6</th>\n",
       "      <th>7</th>\n",
       "      <th>8</th>\n",
       "    </tr>\n",
       "  </thead>\n",
       "  <tbody>\n",
       "    <tr>\n",
       "      <th>0</th>\n",
       "      <td>White or of European descent</td>\n",
       "      <td>None</td>\n",
       "      <td>None</td>\n",
       "      <td>None</td>\n",
       "      <td>None</td>\n",
       "      <td>None</td>\n",
       "      <td>None</td>\n",
       "      <td>None</td>\n",
       "      <td>None</td>\n",
       "    </tr>\n",
       "    <tr>\n",
       "      <th>1</th>\n",
       "      <td>White or of European descent</td>\n",
       "      <td>None</td>\n",
       "      <td>None</td>\n",
       "      <td>None</td>\n",
       "      <td>None</td>\n",
       "      <td>None</td>\n",
       "      <td>None</td>\n",
       "      <td>None</td>\n",
       "      <td>None</td>\n",
       "    </tr>\n",
       "    <tr>\n",
       "      <th>2</th>\n",
       "      <td>White or of European descent</td>\n",
       "      <td>None</td>\n",
       "      <td>None</td>\n",
       "      <td>None</td>\n",
       "      <td>None</td>\n",
       "      <td>None</td>\n",
       "      <td>None</td>\n",
       "      <td>None</td>\n",
       "      <td>None</td>\n",
       "    </tr>\n",
       "    <tr>\n",
       "      <th>3</th>\n",
       "      <td>White or of European descent</td>\n",
       "      <td>None</td>\n",
       "      <td>None</td>\n",
       "      <td>None</td>\n",
       "      <td>None</td>\n",
       "      <td>None</td>\n",
       "      <td>None</td>\n",
       "      <td>None</td>\n",
       "      <td>None</td>\n",
       "    </tr>\n",
       "    <tr>\n",
       "      <th>5</th>\n",
       "      <td>White or of European descent</td>\n",
       "      <td>None</td>\n",
       "      <td>None</td>\n",
       "      <td>None</td>\n",
       "      <td>None</td>\n",
       "      <td>None</td>\n",
       "      <td>None</td>\n",
       "      <td>None</td>\n",
       "      <td>None</td>\n",
       "    </tr>\n",
       "    <tr>\n",
       "      <th>...</th>\n",
       "      <td>...</td>\n",
       "      <td>...</td>\n",
       "      <td>...</td>\n",
       "      <td>...</td>\n",
       "      <td>...</td>\n",
       "      <td>...</td>\n",
       "      <td>...</td>\n",
       "      <td>...</td>\n",
       "      <td>...</td>\n",
       "    </tr>\n",
       "    <tr>\n",
       "      <th>51386</th>\n",
       "      <td>White or of European descent</td>\n",
       "      <td>None</td>\n",
       "      <td>None</td>\n",
       "      <td>None</td>\n",
       "      <td>None</td>\n",
       "      <td>None</td>\n",
       "      <td>None</td>\n",
       "      <td>None</td>\n",
       "      <td>None</td>\n",
       "    </tr>\n",
       "    <tr>\n",
       "      <th>51387</th>\n",
       "      <td>East Asian</td>\n",
       "      <td>White or of European descent</td>\n",
       "      <td>None</td>\n",
       "      <td>None</td>\n",
       "      <td>None</td>\n",
       "      <td>None</td>\n",
       "      <td>None</td>\n",
       "      <td>None</td>\n",
       "      <td>None</td>\n",
       "    </tr>\n",
       "    <tr>\n",
       "      <th>51388</th>\n",
       "      <td>Black or of African descent</td>\n",
       "      <td>Hispanic or Latino/Latina</td>\n",
       "      <td>None</td>\n",
       "      <td>None</td>\n",
       "      <td>None</td>\n",
       "      <td>None</td>\n",
       "      <td>None</td>\n",
       "      <td>None</td>\n",
       "      <td>None</td>\n",
       "    </tr>\n",
       "    <tr>\n",
       "      <th>51390</th>\n",
       "      <td>White or of European descent</td>\n",
       "      <td>None</td>\n",
       "      <td>None</td>\n",
       "      <td>None</td>\n",
       "      <td>None</td>\n",
       "      <td>None</td>\n",
       "      <td>None</td>\n",
       "      <td>None</td>\n",
       "      <td>None</td>\n",
       "    </tr>\n",
       "    <tr>\n",
       "      <th>51391</th>\n",
       "      <td>White or of European descent</td>\n",
       "      <td>None</td>\n",
       "      <td>None</td>\n",
       "      <td>None</td>\n",
       "      <td>None</td>\n",
       "      <td>None</td>\n",
       "      <td>None</td>\n",
       "      <td>None</td>\n",
       "      <td>None</td>\n",
       "    </tr>\n",
       "  </tbody>\n",
       "</table>\n",
       "<p>33033 rows × 9 columns</p>\n",
       "</div>"
      ],
      "text/plain": [
       "                                  0                              1     2  \\\n",
       "0      White or of European descent                           None  None   \n",
       "1      White or of European descent                           None  None   \n",
       "2      White or of European descent                           None  None   \n",
       "3      White or of European descent                           None  None   \n",
       "5      White or of European descent                           None  None   \n",
       "...                             ...                            ...   ...   \n",
       "51386  White or of European descent                           None  None   \n",
       "51387                    East Asian   White or of European descent  None   \n",
       "51388   Black or of African descent      Hispanic or Latino/Latina  None   \n",
       "51390  White or of European descent                           None  None   \n",
       "51391  White or of European descent                           None  None   \n",
       "\n",
       "          3     4     5     6     7     8  \n",
       "0      None  None  None  None  None  None  \n",
       "1      None  None  None  None  None  None  \n",
       "2      None  None  None  None  None  None  \n",
       "3      None  None  None  None  None  None  \n",
       "5      None  None  None  None  None  None  \n",
       "...     ...   ...   ...   ...   ...   ...  \n",
       "51386  None  None  None  None  None  None  \n",
       "51387  None  None  None  None  None  None  \n",
       "51388  None  None  None  None  None  None  \n",
       "51390  None  None  None  None  None  None  \n",
       "51391  None  None  None  None  None  None  \n",
       "\n",
       "[33033 rows x 9 columns]"
      ]
     },
     "execution_count": 10,
     "metadata": {},
     "output_type": "execute_result"
    }
   ],
   "source": [
    "# Split Race Data\n",
    "\n",
    "new_data = df1.Race.str.split(';', expand=True)\n",
    "new_data"
   ]
  },
  {
   "cell_type": "code",
   "execution_count": 11,
   "id": "2e580809",
   "metadata": {},
   "outputs": [
    {
     "data": {
      "text/plain": [
       "0         White or of European descent\n",
       "1         White or of European descent\n",
       "2         White or of European descent\n",
       "3         White or of European descent\n",
       "4         White or of European descent\n",
       "                      ...             \n",
       "297292                            None\n",
       "297293                            None\n",
       "297294                            None\n",
       "297295                            None\n",
       "297296                            None\n",
       "Name: value, Length: 297297, dtype: object"
      ]
     },
     "execution_count": 11,
     "metadata": {},
     "output_type": "execute_result"
    }
   ],
   "source": [
    "# Now we need to unpivot this dataaset\n",
    "\n",
    "new_data = pd.melt(new_data).value.str.strip()\n",
    "new_data"
   ]
  },
  {
   "cell_type": "markdown",
   "id": "8738a28e",
   "metadata": {},
   "source": [
    "This **NaN** Values Generate Due to Split <br>\n",
    "We need to drop this NaN Values <br>\n",
    "otherwise this will afftect our final result"
   ]
  },
  {
   "cell_type": "code",
   "execution_count": 12,
   "id": "cdaa8bb0",
   "metadata": {},
   "outputs": [
    {
     "name": "stdout",
     "output_type": "stream",
     "text": [
      "Before Removing: 0.8830025193661557\n",
      "Before Removing: 0.0\n"
     ]
    }
   ],
   "source": [
    "print(f\"Before Removing: {new_data.isnull().mean()}\")\n",
    "new_data = new_data.dropna()\n",
    "print(f\"Before Removing: {new_data.isnull().mean()}\")"
   ]
  },
  {
   "cell_type": "markdown",
   "id": "f782e5cd",
   "metadata": {},
   "source": [
    "### Data Preperation for Question 2"
   ]
  },
  {
   "cell_type": "markdown",
   "id": "19c29be1",
   "metadata": {},
   "source": [
    "Columns Needed For Question No 2"
   ]
  },
  {
   "cell_type": "code",
   "execution_count": 13,
   "id": "fb69dba4",
   "metadata": {},
   "outputs": [
    {
     "data": {
      "text/html": [
       "<div>\n",
       "<style scoped>\n",
       "    .dataframe tbody tr th:only-of-type {\n",
       "        vertical-align: middle;\n",
       "    }\n",
       "\n",
       "    .dataframe tbody tr th {\n",
       "        vertical-align: top;\n",
       "    }\n",
       "\n",
       "    .dataframe thead th {\n",
       "        text-align: right;\n",
       "    }\n",
       "</style>\n",
       "<table border=\"1\" class=\"dataframe\">\n",
       "  <thead>\n",
       "    <tr style=\"text-align: right;\">\n",
       "      <th></th>\n",
       "      <th>Country</th>\n",
       "      <th>FormalEducation</th>\n",
       "      <th>Respondent</th>\n",
       "    </tr>\n",
       "  </thead>\n",
       "  <tbody>\n",
       "    <tr>\n",
       "      <th>0</th>\n",
       "      <td>United States</td>\n",
       "      <td>Secondary school</td>\n",
       "      <td>1</td>\n",
       "    </tr>\n",
       "    <tr>\n",
       "      <th>1</th>\n",
       "      <td>United Kingdom</td>\n",
       "      <td>Some college/university study without earning ...</td>\n",
       "      <td>2</td>\n",
       "    </tr>\n",
       "    <tr>\n",
       "      <th>2</th>\n",
       "      <td>United Kingdom</td>\n",
       "      <td>Bachelor's degree</td>\n",
       "      <td>3</td>\n",
       "    </tr>\n",
       "    <tr>\n",
       "      <th>3</th>\n",
       "      <td>United States</td>\n",
       "      <td>Doctoral degree</td>\n",
       "      <td>4</td>\n",
       "    </tr>\n",
       "    <tr>\n",
       "      <th>4</th>\n",
       "      <td>Switzerland</td>\n",
       "      <td>Master's degree</td>\n",
       "      <td>5</td>\n",
       "    </tr>\n",
       "  </tbody>\n",
       "</table>\n",
       "</div>"
      ],
      "text/plain": [
       "          Country                                    FormalEducation  \\\n",
       "0   United States                                   Secondary school   \n",
       "1  United Kingdom  Some college/university study without earning ...   \n",
       "2  United Kingdom                                  Bachelor's degree   \n",
       "3   United States                                    Doctoral degree   \n",
       "4     Switzerland                                    Master's degree   \n",
       "\n",
       "   Respondent  \n",
       "0           1  \n",
       "1           2  \n",
       "2           3  \n",
       "3           4  \n",
       "4           5  "
      ]
     },
     "execution_count": 13,
     "metadata": {},
     "output_type": "execute_result"
    }
   ],
   "source": [
    "# Important Columns for Question No 2\n",
    "\n",
    "df2 = df.loc[:,['Country','FormalEducation','Respondent']]\n",
    "df2.head()"
   ]
  },
  {
   "cell_type": "markdown",
   "id": "0da3cb16",
   "metadata": {},
   "source": [
    "Check NaN Values"
   ]
  },
  {
   "cell_type": "code",
   "execution_count": 14,
   "id": "34720b92",
   "metadata": {},
   "outputs": [
    {
     "data": {
      "text/plain": [
       "Country            0.0\n",
       "FormalEducation    0.0\n",
       "Respondent         0.0\n",
       "dtype: float64"
      ]
     },
     "execution_count": 14,
     "metadata": {},
     "output_type": "execute_result"
    }
   ],
   "source": [
    "# Find NaN Values\n",
    "\n",
    "df2.isnull().mean()"
   ]
  },
  {
   "cell_type": "markdown",
   "id": "95525518",
   "metadata": {},
   "source": [
    "Not a single number of NaN values are there <br>\n",
    "No need to imputing or drop any rows"
   ]
  },
  {
   "cell_type": "markdown",
   "id": "999b8735",
   "metadata": {},
   "source": [
    "### Data Preperation for Question No 3"
   ]
  },
  {
   "cell_type": "code",
   "execution_count": 15,
   "id": "d49a0dec",
   "metadata": {},
   "outputs": [
    {
     "data": {
      "text/html": [
       "<div>\n",
       "<style scoped>\n",
       "    .dataframe tbody tr th:only-of-type {\n",
       "        vertical-align: middle;\n",
       "    }\n",
       "\n",
       "    .dataframe tbody tr th {\n",
       "        vertical-align: top;\n",
       "    }\n",
       "\n",
       "    .dataframe thead th {\n",
       "        text-align: right;\n",
       "    }\n",
       "</style>\n",
       "<table border=\"1\" class=\"dataframe\">\n",
       "  <thead>\n",
       "    <tr style=\"text-align: right;\">\n",
       "      <th></th>\n",
       "      <th>MajorUndergrad</th>\n",
       "      <th>EmploymentStatus</th>\n",
       "      <th>Respondent</th>\n",
       "    </tr>\n",
       "  </thead>\n",
       "  <tbody>\n",
       "    <tr>\n",
       "      <th>0</th>\n",
       "      <td>NaN</td>\n",
       "      <td>Not employed, and not looking for work</td>\n",
       "      <td>1</td>\n",
       "    </tr>\n",
       "    <tr>\n",
       "      <th>1</th>\n",
       "      <td>Computer science or software engineering</td>\n",
       "      <td>Employed part-time</td>\n",
       "      <td>2</td>\n",
       "    </tr>\n",
       "    <tr>\n",
       "      <th>2</th>\n",
       "      <td>Computer science or software engineering</td>\n",
       "      <td>Employed full-time</td>\n",
       "      <td>3</td>\n",
       "    </tr>\n",
       "    <tr>\n",
       "      <th>3</th>\n",
       "      <td>A non-computer-focused engineering discipline</td>\n",
       "      <td>Employed full-time</td>\n",
       "      <td>4</td>\n",
       "    </tr>\n",
       "    <tr>\n",
       "      <th>4</th>\n",
       "      <td>Computer science or software engineering</td>\n",
       "      <td>Employed full-time</td>\n",
       "      <td>5</td>\n",
       "    </tr>\n",
       "  </tbody>\n",
       "</table>\n",
       "</div>"
      ],
      "text/plain": [
       "                                  MajorUndergrad  \\\n",
       "0                                            NaN   \n",
       "1       Computer science or software engineering   \n",
       "2       Computer science or software engineering   \n",
       "3  A non-computer-focused engineering discipline   \n",
       "4       Computer science or software engineering   \n",
       "\n",
       "                         EmploymentStatus  Respondent  \n",
       "0  Not employed, and not looking for work           1  \n",
       "1                      Employed part-time           2  \n",
       "2                      Employed full-time           3  \n",
       "3                      Employed full-time           4  \n",
       "4                      Employed full-time           5  "
      ]
     },
     "execution_count": 15,
     "metadata": {},
     "output_type": "execute_result"
    }
   ],
   "source": [
    "# Important Columns for Question No 2\n",
    "\n",
    "df3 = df.loc[:,['MajorUndergrad','EmploymentStatus','Respondent']]\n",
    "df3.head()"
   ]
  },
  {
   "cell_type": "code",
   "execution_count": 16,
   "id": "8cabff4e",
   "metadata": {},
   "outputs": [
    {
     "data": {
      "text/plain": [
       "MajorUndergrad      0.166388\n",
       "EmploymentStatus    0.000000\n",
       "Respondent          0.000000\n",
       "dtype: float64"
      ]
     },
     "execution_count": 16,
     "metadata": {},
     "output_type": "execute_result"
    }
   ],
   "source": [
    "df3.isnull().mean()"
   ]
  },
  {
   "cell_type": "markdown",
   "id": "e894edb5",
   "metadata": {},
   "source": [
    "No Need to drop MajorUndergrad rows becuase we can neglact it very easily evalution step"
   ]
  },
  {
   "cell_type": "markdown",
   "id": "1d6b5ddb",
   "metadata": {},
   "source": [
    "# Evaluation"
   ]
  },
  {
   "cell_type": "markdown",
   "id": "5fd6d494",
   "metadata": {},
   "source": [
    "## Evaluation for Question No 1\n",
    "\n",
    "### 1. Salary distribuition according to Race?"
   ]
  },
  {
   "cell_type": "markdown",
   "id": "fdb23afd",
   "metadata": {},
   "source": [
    "Race Column Describe **Identification** of Respondent"
   ]
  },
  {
   "cell_type": "code",
   "execution_count": 17,
   "id": "ead3b824",
   "metadata": {},
   "outputs": [
    {
     "data": {
      "text/plain": [
       "'Which of the following do you identify as?'"
      ]
     },
     "execution_count": 17,
     "metadata": {},
     "output_type": "execute_result"
    }
   ],
   "source": [
    "list(schema[schema.Column == 'Race'].Question)[0]"
   ]
  },
  {
   "cell_type": "markdown",
   "id": "0b54f4e6",
   "metadata": {},
   "source": [
    "**Final Result**"
   ]
  },
  {
   "cell_type": "code",
   "execution_count": 18,
   "id": "05e41b45",
   "metadata": {},
   "outputs": [
    {
     "data": {
      "text/html": [
       "<div>\n",
       "<style scoped>\n",
       "    .dataframe tbody tr th:only-of-type {\n",
       "        vertical-align: middle;\n",
       "    }\n",
       "\n",
       "    .dataframe tbody tr th {\n",
       "        vertical-align: top;\n",
       "    }\n",
       "\n",
       "    .dataframe thead th {\n",
       "        text-align: right;\n",
       "    }\n",
       "</style>\n",
       "<table border=\"1\" class=\"dataframe\">\n",
       "  <thead>\n",
       "    <tr style=\"text-align: right;\">\n",
       "      <th></th>\n",
       "      <th>value</th>\n",
       "    </tr>\n",
       "  </thead>\n",
       "  <tbody>\n",
       "    <tr>\n",
       "      <th>White or of European descent</th>\n",
       "      <td>0.706667</td>\n",
       "    </tr>\n",
       "    <tr>\n",
       "      <th>South Asian</th>\n",
       "      <td>0.083259</td>\n",
       "    </tr>\n",
       "    <tr>\n",
       "      <th>Hispanic or Latino/Latina</th>\n",
       "      <td>0.053446</td>\n",
       "    </tr>\n",
       "    <tr>\n",
       "      <th>East Asian</th>\n",
       "      <td>0.046632</td>\n",
       "    </tr>\n",
       "    <tr>\n",
       "      <th>Middle Eastern</th>\n",
       "      <td>0.034011</td>\n",
       "    </tr>\n",
       "    <tr>\n",
       "      <th>I prefer not to say</th>\n",
       "      <td>0.025098</td>\n",
       "    </tr>\n",
       "    <tr>\n",
       "      <th>Black or of African descent</th>\n",
       "      <td>0.023805</td>\n",
       "    </tr>\n",
       "    <tr>\n",
       "      <th>I don’t know</th>\n",
       "      <td>0.018716</td>\n",
       "    </tr>\n",
       "    <tr>\n",
       "      <th>Native American, Pacific Islander, or Indigenous Australian</th>\n",
       "      <td>0.008366</td>\n",
       "    </tr>\n",
       "  </tbody>\n",
       "</table>\n",
       "</div>"
      ],
      "text/plain": [
       "                                                       value\n",
       "White or of European descent                        0.706667\n",
       "South Asian                                         0.083259\n",
       "Hispanic or Latino/Latina                           0.053446\n",
       "East Asian                                          0.046632\n",
       "Middle Eastern                                      0.034011\n",
       "I prefer not to say                                 0.025098\n",
       "Black or of African descent                         0.023805\n",
       "I don’t know                                        0.018716\n",
       "Native American, Pacific Islander, or Indigenou...  0.008366"
      ]
     },
     "execution_count": 18,
     "metadata": {},
     "output_type": "execute_result"
    }
   ],
   "source": [
    "race_data = new_data.value_counts()/new_data.shape[0]\n",
    "race_data = pd.DataFrame(race_data)\n",
    "race_data"
   ]
  },
  {
   "cell_type": "markdown",
   "id": "542f2cd1",
   "metadata": {},
   "source": [
    "Race **Bar Chart**"
   ]
  },
  {
   "cell_type": "code",
   "execution_count": 19,
   "id": "b7ed3d17",
   "metadata": {},
   "outputs": [
    {
     "data": {
      "image/png": "[encoded data removed]",
      "text/plain": [
       "<Figure size 432x288 with 1 Axes>"
      ]
     },
     "metadata": {
      "needs_background": "light"
     },
     "output_type": "display_data"
    }
   ],
   "source": [
    "race_data.plot(kind='barh', fontsize=14);"
   ]
  },
  {
   "cell_type": "markdown",
   "id": "cbe9c5c7",
   "metadata": {},
   "source": [
    "Note: This Bar graph Clearly shows us that **White/European Descent** are highest Responder for this Survey <br>\n",
    "**Native American, Pacific Islender, or Indigenous Australian** are lowest Responder <br>\n",
    "This mean mightbe our Result will shows us that white/European Descent have highest paid Because of this baisnes "
   ]
  },
  {
   "cell_type": "markdown",
   "id": "a024cb2a",
   "metadata": {},
   "source": [
    "Extract Unqiue Values From Race Column"
   ]
  },
  {
   "cell_type": "code",
   "execution_count": 20,
   "id": "095b59c6",
   "metadata": {
    "scrolled": true
   },
   "outputs": [],
   "source": [
    "race_col = list(new_data.unique())"
   ]
  },
  {
   "cell_type": "markdown",
   "id": "f2b450ca",
   "metadata": {},
   "source": [
    "As we see most of our respondents are White / European Descent"
   ]
  },
  {
   "cell_type": "markdown",
   "id": "703c2237",
   "metadata": {},
   "source": [
    "Calculate Salary of different Races and Took the **median** of it. <br>\n",
    "**Why Median Not Mean?** <br>\n",
    "This is becuase almost every salary distribution have outliers, Which will effect Mean <br>\n",
    "That's why we select Median <br>"
   ]
  },
  {
   "cell_type": "code",
   "execution_count": 21,
   "id": "9354f232",
   "metadata": {},
   "outputs": [],
   "source": [
    "def calc_salary(race_col, df):\n",
    "    '''\n",
    "    INPUT - race_col - list - Desired column \n",
    "            df - dataframe\n",
    "    OUTPUT - \n",
    "            desc - dataframe which contain Salary's median and Race\n",
    "    '''\n",
    "    \n",
    "    data = df.copy()\n",
    "    data = data.dropna(subset=['Race'], axis=0)\n",
    "    c=1\n",
    "    for col in race_col:\n",
    "        \n",
    "        # Calculate Median and add into Salary (median Column)\n",
    "        race_data.loc[col, 'Salary (median)'] += data[data.Race.str.contains(col)].Salary.median()\n",
    "        \n",
    "        # Histogram Plotting\n",
    "        plt.subplot(3,3,c)\n",
    "        plt.tight_layout()\n",
    "        data[data.Race.str.contains(col)].Salary.plot(kind='hist')\n",
    "        plt.title(col)\\\n",
    "        \n",
    "        c+=1\n",
    "        \n",
    "    # Rename first Column\n",
    "    race_data.columns =['Respondents','Salary (median)']\n",
    "    \n",
    "    return race_data.sort_values(ascending=False, by='Salary (median)')"
   ]
  },
  {
   "cell_type": "code",
   "execution_count": 22,
   "id": "73a91b2d",
   "metadata": {},
   "outputs": [
    {
     "data": {
      "image/png": "[encoded data removed]",
      "text/plain": [
       "<Figure size 432x288 with 9 Axes>"
      ]
     },
     "metadata": {
      "needs_background": "light"
     },
     "output_type": "display_data"
    }
   ],
   "source": [
    "race_data['Salary (median)'] = 0\n",
    "race_data = calc_salary(race_col, df1)"
   ]
  },
  {
   "cell_type": "markdown",
   "id": "1b07a5a9",
   "metadata": {},
   "source": [
    "Histograms shows us that **Native American, Pacific Islender, or Indigenous Australian** will dominate all others <br>\n",
    "Because there are more highest paid employee than others"
   ]
  },
  {
   "cell_type": "code",
   "execution_count": 23,
   "id": "c29eb83d",
   "metadata": {},
   "outputs": [
    {
     "data": {
      "image/png": "[encoded data removed]",
      "text/plain": [
       "<Figure size 432x288 with 1 Axes>"
      ]
     },
     "metadata": {
      "needs_background": "light"
     },
     "output_type": "display_data"
    }
   ],
   "source": [
    "race_data['Salary (median)'].plot(kind='bar', fontsize=12)\n",
    "plt.title('Salary Median')\n",
    "plt.show()"
   ]
  },
  {
   "cell_type": "markdown",
   "id": "724570d4",
   "metadata": {},
   "source": [
    "# Deployment\n",
    "\n",
    "**Native American, Pacific Islender, or Indigenous Australian** are highest paid and <br>\n",
    "**South Asian** are lowest paid\n",
    "\n",
    "Intersting part is that White/European descent were higher responder but they gets second position\n",
    "and South Asian were second highest responder and they gets second last position\n",
    "\n",
    "You can check it full description on my [blog post](https://medium.com/@mustufa.abbas110?p=51209632d788)"
   ]
  },
  {
   "cell_type": "markdown",
   "id": "3430f1ab",
   "metadata": {},
   "source": [
    "## Evaluation for Question No 2\n",
    "\n",
    "### Which country has highest educated People?"
   ]
  },
  {
   "cell_type": "markdown",
   "id": "a33def85",
   "metadata": {},
   "source": [
    "**Data Understanding**"
   ]
  },
  {
   "cell_type": "code",
   "execution_count": 24,
   "id": "12e2b75d",
   "metadata": {},
   "outputs": [
    {
     "data": {
      "image/png": "[encoded data removed]",
      "text/plain": [
       "<Figure size 432x288 with 1 Axes>"
      ]
     },
     "metadata": {
      "needs_background": "light"
     },
     "output_type": "display_data"
    }
   ],
   "source": [
    "# Top Ten Countries Those people have highest Repond\n",
    "\n",
    "df2.Country.value_counts()[:10].plot(kind='bar');"
   ]
  },
  {
   "cell_type": "code",
   "execution_count": 25,
   "id": "465f5769",
   "metadata": {},
   "outputs": [],
   "source": [
    "def find_max_min(colNo1, colNo2, df, find='max'):\n",
    "    \n",
    "    '''\n",
    "    INPUT - colNo1 - String - 1st Column name you want to groupby \n",
    "            colNo2 - String - 2nd Column name you want to groupby \n",
    "            df - dataframe\n",
    "            find - String - max means find Maximum value, min means find minimum value\n",
    "    OUTPUT - \n",
    "            desc - dataframe which calculate count of colNo1 and ColNo2\n",
    "    '''\n",
    "    \n",
    "    \n",
    "    # Apply Group by on colNo1 and colNo2 on df dataset\n",
    "    data = pd.DataFrame(df.groupby([colNo1, colNo2]).count()['Respondent'])\n",
    "    \n",
    "    # Extract Values from two Columns\n",
    "    cols2 = list(data.reset_index()[colNo1].unique())\n",
    "    cols1 = list(data.reset_index()[colNo2].unique())\n",
    "    \n",
    "    # Dict Which will save Final result\n",
    "    result = {}\n",
    "    \n",
    "    # User Select If it want ot fin min or max using parameter find=''\n",
    "    # If User puts wrong parameter it raise an exception\n",
    "    if find == 'max':\n",
    "        value = -math.inf\n",
    "        func = func_max\n",
    "    elif find == 'min':\n",
    "        value = math.inf\n",
    "        func = func_min\n",
    "    else:\n",
    "        raise Exception(\"Sorry, Please Enter only min or max\")\n",
    "    \n",
    "    # Use to save index\n",
    "    index = ''\n",
    "\n",
    "    for col1 in cols1:\n",
    "        for col2 in cols2:\n",
    "            nested_val = data.loc[col2, :]\n",
    "            try:\n",
    "                val = int(nested_val.loc[col1,:])\n",
    "                value, index = func(value, val, col2)\n",
    "            except:\n",
    "                pass\n",
    "        \n",
    "        # Save result on Dict\n",
    "        result[col1] =  [index, value]\n",
    "        \n",
    "        # Reset Values\n",
    "        value = -math.inf if find == 'max' else math.inf\n",
    "        index = ''\n",
    "    \n",
    "    # Transform result matrix\n",
    "    final = pd.DataFrame(result).T\n",
    "    # Rename Column \n",
    "    final.columns = [colNo1,colNo2]\n",
    "    \n",
    "    return final\n",
    "\n",
    "# Helper Funvtion\n",
    "def func_max(value, val, key):\n",
    "    '''\n",
    "    INPUT - value - int - -infinity for comparision to find largest number\n",
    "            val - int - some integer number which want to compare\n",
    "            key - string - some index or key correspond to \"val\"\n",
    "    OUTPUT - \n",
    "            value - int - largest value as compared to provided largest value\n",
    "            index - string - key or index corespond to largest value\n",
    "    '''\n",
    "    if val > value:\n",
    "        value = val\n",
    "        index = key\n",
    "    return value, index\n",
    "    \n",
    "def func_min(value, val, key):\n",
    "    '''\n",
    "    INPUT - value - int - +infinity for comparision to find smalest number\n",
    "            val - int - some integer number which want to compare\n",
    "            key - string - some index or key correspond to \"val\"\n",
    "    OUTPUT - \n",
    "            value - int - smalest value as compared to provided smalest value\n",
    "            index - string - key or index corespond to smalest value\n",
    "    '''\n",
    "    if val < value:\n",
    "        value = val\n",
    "        index = key\n",
    "    return value, index"
   ]
  },
  {
   "cell_type": "code",
   "execution_count": 26,
   "id": "4cc8cff2",
   "metadata": {},
   "outputs": [
    {
     "data": {
      "text/html": [
       "<div>\n",
       "<style scoped>\n",
       "    .dataframe tbody tr th:only-of-type {\n",
       "        vertical-align: middle;\n",
       "    }\n",
       "\n",
       "    .dataframe tbody tr th {\n",
       "        vertical-align: top;\n",
       "    }\n",
       "\n",
       "    .dataframe thead th {\n",
       "        text-align: right;\n",
       "    }\n",
       "</style>\n",
       "<table border=\"1\" class=\"dataframe\">\n",
       "  <thead>\n",
       "    <tr style=\"text-align: right;\">\n",
       "      <th></th>\n",
       "      <th>Country</th>\n",
       "      <th>FormalEducation</th>\n",
       "    </tr>\n",
       "  </thead>\n",
       "  <tbody>\n",
       "    <tr>\n",
       "      <th>Bachelor's degree</th>\n",
       "      <td>United States</td>\n",
       "      <td>5667</td>\n",
       "    </tr>\n",
       "    <tr>\n",
       "      <th>Doctoral degree</th>\n",
       "      <td>United States</td>\n",
       "      <td>329</td>\n",
       "    </tr>\n",
       "    <tr>\n",
       "      <th>I never completed any formal education</th>\n",
       "      <td>United States</td>\n",
       "      <td>49</td>\n",
       "    </tr>\n",
       "    <tr>\n",
       "      <th>I prefer not to answer</th>\n",
       "      <td>United States</td>\n",
       "      <td>189</td>\n",
       "    </tr>\n",
       "    <tr>\n",
       "      <th>Master's degree</th>\n",
       "      <td>United States</td>\n",
       "      <td>1908</td>\n",
       "    </tr>\n",
       "    <tr>\n",
       "      <th>Primary/elementary school</th>\n",
       "      <td>United States</td>\n",
       "      <td>294</td>\n",
       "    </tr>\n",
       "    <tr>\n",
       "      <th>Secondary school</th>\n",
       "      <td>Germany</td>\n",
       "      <td>970</td>\n",
       "    </tr>\n",
       "    <tr>\n",
       "      <th>Some college/university study without earning a bachelor's degree</th>\n",
       "      <td>United States</td>\n",
       "      <td>2203</td>\n",
       "    </tr>\n",
       "    <tr>\n",
       "      <th>Professional degree</th>\n",
       "      <td>Spain</td>\n",
       "      <td>86</td>\n",
       "    </tr>\n",
       "  </tbody>\n",
       "</table>\n",
       "</div>"
      ],
      "text/plain": [
       "                                                          Country  \\\n",
       "Bachelor's degree                                   United States   \n",
       "Doctoral degree                                     United States   \n",
       "I never completed any formal education              United States   \n",
       "I prefer not to answer                              United States   \n",
       "Master's degree                                     United States   \n",
       "Primary/elementary school                           United States   \n",
       "Secondary school                                          Germany   \n",
       "Some college/university study without earning a...  United States   \n",
       "Professional degree                                         Spain   \n",
       "\n",
       "                                                   FormalEducation  \n",
       "Bachelor's degree                                             5667  \n",
       "Doctoral degree                                                329  \n",
       "I never completed any formal education                          49  \n",
       "I prefer not to answer                                         189  \n",
       "Master's degree                                               1908  \n",
       "Primary/elementary school                                      294  \n",
       "Secondary school                                               970  \n",
       "Some college/university study without earning a...            2203  \n",
       "Professional degree                                             86  "
      ]
     },
     "execution_count": 26,
     "metadata": {},
     "output_type": "execute_result"
    }
   ],
   "source": [
    "highest_edu = find_max_min('Country', 'FormalEducation', df2, 'max')\n",
    "highest_edu"
   ]
  },
  {
   "cell_type": "markdown",
   "id": "d9005569",
   "metadata": {},
   "source": [
    "# Deployment\n",
    "\n",
    "This Result Shows that US has Most Bachelor's , Masters and Doctoral Degress <br>\n",
    "This can be justidy beacause we have largest responder from US (Baisnes in dataset)<br>\n",
    "But we have Secondry School responder from Germany <br>\n",
    "and professional Degree from Spain\n",
    "\n",
    "You can check it full description on my [blog post](https://medium.com/@mustufa.abbas110?p=51209632d788)"
   ]
  },
  {
   "cell_type": "markdown",
   "id": "36f718bd",
   "metadata": {},
   "source": [
    "## Evaluation for Question No 3\n",
    "\n",
    "### How many MajorUndergrad Student who gets job and Not?"
   ]
  },
  {
   "cell_type": "code",
   "execution_count": 27,
   "id": "0cdfa26b",
   "metadata": {},
   "outputs": [],
   "source": [
    "# Copying Dataset to dfnew\n",
    "\n",
    "dfnew = df3.loc[:,['EmploymentStatus','MajorUndergrad']].copy()"
   ]
  },
  {
   "cell_type": "code",
   "execution_count": 28,
   "id": "d3abd861",
   "metadata": {},
   "outputs": [
    {
     "data": {
      "text/plain": [
       "Employed full-time                                      36148\n",
       "Independent contractor, freelancer, or self-employed     5233\n",
       "Employed part-time                                       3180\n",
       "Not employed, and not looking for work                   2791\n",
       "Not employed, but looking for work                       2786\n",
       "I prefer not to say                                      1086\n",
       "Retired                                                   168\n",
       "Name: EmploymentStatus, dtype: int64"
      ]
     },
     "execution_count": 28,
     "metadata": {},
     "output_type": "execute_result"
    }
   ],
   "source": [
    "df3.EmploymentStatus.value_counts()"
   ]
  },
  {
   "cell_type": "markdown",
   "id": "3f1cd707",
   "metadata": {},
   "source": [
    "Extract Those undergrad who are employed"
   ]
  },
  {
   "cell_type": "code",
   "execution_count": 29,
   "id": "e1e93f01",
   "metadata": {},
   "outputs": [
    {
     "name": "stdout",
     "output_type": "stream",
     "text": [
      "Undergrad Student those are Employed: 77.19489414694894 %\n"
     ]
    }
   ],
   "source": [
    "employed = ['Employed part-time','Employed full-time','Independent contractor, freelancer, or self-employed']\n",
    "emp = 0\n",
    "for val in employed: \n",
    "    emp += dfnew[dfnew.EmploymentStatus == val].count()['MajorUndergrad']\n",
    "    \n",
    "print(f\"Undergrad Student those are Employed: {emp/dfnew.MajorUndergrad.shape[0] * 100} %\")"
   ]
  },
  {
   "cell_type": "markdown",
   "id": "b571aa44",
   "metadata": {},
   "source": [
    "Extract Those undergrad who are not employed"
   ]
  },
  {
   "cell_type": "code",
   "execution_count": 30,
   "id": "11b41495",
   "metadata": {},
   "outputs": [
    {
     "name": "stdout",
     "output_type": "stream",
     "text": [
      "Undergrad Student those are Not Employed: 5.199252801992528 %\n"
     ]
    }
   ],
   "source": [
    "employed = ['Not employed, and not looking for work', 'Not employed, but looking for work']\n",
    "emp = 0\n",
    "for val in employed: \n",
    "    emp += dfnew[dfnew.EmploymentStatus == val].count()['MajorUndergrad']\n",
    "    \n",
    "print(f\"Undergrad Student those are Not Employed: {emp/dfnew.MajorUndergrad.shape[0] * 100} %\")"
   ]
  },
  {
   "cell_type": "markdown",
   "id": "286ac3a4",
   "metadata": {},
   "source": [
    "# Deployment\n",
    "\n",
    "around 77% Undergrad are Employed <br>\n",
    "around 5% Undergrad are not employed <br>\n",
    "remaing 18% Don't want to respond or reitred\n",
    "\n",
    "You can check it full description on my [blog post](https://medium.com/@mustufa.abbas110?p=51209632d788)"
   ]
  },
  {
   "cell_type": "code",
   "execution_count": null,
   "id": "75c159ed",
   "metadata": {},
   "outputs": [],
   "source": []
  }
 ],
 "metadata": {
  "kernelspec": {
   "display_name": "Python 3",
   "language": "python",
   "name": "python3"
  },
  "language_info": {
   "codemirror_mode": {
    "name": "ipython",
    "version": 3
   },
   "file_extension": ".py",
   "mimetype": "text/x-python",
   "name": "python",
   "nbconvert_exporter": "python",
   "pygments_lexer": "ipython3",
   "version": "3.8.10"
  }
 },
 "nbformat": 4,
 "nbformat_minor": 5
}
